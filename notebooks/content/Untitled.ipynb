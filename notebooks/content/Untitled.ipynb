{
 "cells": [
  {
   "cell_type": "code",
   "execution_count": 25,
   "id": "fd56ebc5-c96a-41ce-9aeb-97b9fce660be",
   "metadata": {},
   "outputs": [],
   "source": [
    "from transformers import T5Tokenizer, T5ForConditionalGeneration\n",
    "import torch\n",
    "\n",
    "from transformers import RobertaTokenizer\n",
    "tokenizer = RobertaTokenizer.from_pretrained(\"Salesforce/codet5-small\")\n",
    "\n",
    "input_sequence = \"\"\"\n",
    "\"Object_0\": {\n",
    "        \"location\": \"<Vector (6.0000, 0.0000, 0.5000)>\",\n",
    "        \"size\": \"<Vector (1.0000, 1.0000, 1.0000)>\"\n",
    "    }\n",
    "\"\"\"\n",
    "\n",
    "\n",
    "\n",
    "encoding = tokenizer(\n",
    "    input_sequence,\n",
    "    truncation = False,\n",
    "    return_tensors = \"pt\",\n",
    ")"
   ]
  },
  {
   "cell_type": "code",
   "execution_count": 26,
   "id": "9dd6814c-8358-4ced-aadf-597d9b55b940",
   "metadata": {
    "scrolled": true
   },
   "outputs": [
    {
     "data": {
      "text/plain": [
       "torch.Size([1, 57])"
      ]
     },
     "execution_count": 26,
     "metadata": {},
     "output_type": "execute_result"
    }
   ],
   "source": [
    "encoding[\"input_ids\"].size()"
   ]
  },
  {
   "cell_type": "code",
   "execution_count": null,
   "id": "2e8df82d-e353-4ccd-ad11-6baf758a71ca",
   "metadata": {},
   "outputs": [],
   "source": []
  }
 ],
 "metadata": {
  "kernelspec": {
   "display_name": "Python 3 (ipykernel)",
   "language": "python",
   "name": "python3"
  },
  "language_info": {
   "codemirror_mode": {
    "name": "ipython",
    "version": 3
   },
   "file_extension": ".py",
   "mimetype": "text/x-python",
   "name": "python",
   "nbconvert_exporter": "python",
   "pygments_lexer": "ipython3",
   "version": "3.12.2"
  }
 },
 "nbformat": 4,
 "nbformat_minor": 5
}
