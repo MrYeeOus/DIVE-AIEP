{
  "cells": [
    {
      "cell_type": "markdown",
      "metadata": {
        "id": "view-in-github",
        "colab_type": "text"
      },
      "source": [
        "<a href=\"https://colab.research.google.com/github/MrYeeOus/DIVE-AIEP/blob/main/notebooks/json2dae_v2.ipynb\" target=\"_parent\"><img src=\"https://colab.research.google.com/assets/colab-badge.svg\" alt=\"Open In Colab\"/></a>"
      ]
    },
    {
      "cell_type": "code",
      "execution_count": 4,
      "metadata": {
        "colab": {
          "base_uri": "https://localhost:8080/"
        },
        "id": "WGvSN1txYKX4",
        "outputId": "28c116dd-8d61-4da3-d924-6d2fe1fbdb3f"
      },
      "outputs": [
        {
          "output_type": "stream",
          "name": "stdout",
          "text": [
            "  Building wheel for transformers (pyproject.toml) ... \u001b[?25l\u001b[?25hdone\n",
            "  Created wheel for transformers: filename=transformers-4.41.0.dev0-py3-none-any.whl size=9050615 sha256=bebccceaee4eca45a1128c2941a3fe7a29f61eaa12ffd008a225aa792f070448\n",
            "  Stored in directory: /tmp/pip-ephem-wheel-cache-mpb7ft6c/wheels/e7/9c/5b/e1a9c8007c343041e61cc484433d512ea9274272e3fcbe7c16\n",
            "Successfully built transformers\n",
            "Installing collected packages: transformers\n",
            "  Attempting uninstall: transformers\n",
            "    Found existing installation: transformers 4.40.1\n",
            "    Uninstalling transformers-4.40.1:\n",
            "      Successfully uninstalled transformers-4.40.1\n",
            "Successfully installed transformers-4.41.0.dev0\n",
            "Collecting accelerate\n",
            "  Downloading accelerate-0.30.0-py3-none-any.whl (302 kB)\n",
            "\u001b[2K     \u001b[90m━━━━━━━━━━━━━━━━━━━━━━━━━━━━━━━━━━━━━━━━\u001b[0m \u001b[32m302.4/302.4 kB\u001b[0m \u001b[31m2.8 MB/s\u001b[0m eta \u001b[36m0:00:00\u001b[0m\n",
            "\u001b[?25hRequirement already satisfied: numpy>=1.17 in /usr/local/lib/python3.10/dist-packages (from accelerate) (1.25.2)\n",
            "Requirement already satisfied: packaging>=20.0 in /usr/local/lib/python3.10/dist-packages (from accelerate) (24.0)\n",
            "Requirement already satisfied: psutil in /usr/local/lib/python3.10/dist-packages (from accelerate) (5.9.5)\n",
            "Requirement already satisfied: pyyaml in /usr/local/lib/python3.10/dist-packages (from accelerate) (6.0.1)\n",
            "Requirement already satisfied: torch>=1.10.0 in /usr/local/lib/python3.10/dist-packages (from accelerate) (2.2.1+cu121)\n",
            "Requirement already satisfied: huggingface-hub in /usr/local/lib/python3.10/dist-packages (from accelerate) (0.23.0)\n",
            "Requirement already satisfied: safetensors>=0.3.1 in /usr/local/lib/python3.10/dist-packages (from accelerate) (0.4.3)\n",
            "Requirement already satisfied: filelock in /usr/local/lib/python3.10/dist-packages (from torch>=1.10.0->accelerate) (3.14.0)\n",
            "Requirement already satisfied: typing-extensions>=4.8.0 in /usr/local/lib/python3.10/dist-packages (from torch>=1.10.0->accelerate) (4.11.0)\n",
            "Requirement already satisfied: sympy in /usr/local/lib/python3.10/dist-packages (from torch>=1.10.0->accelerate) (1.12)\n",
            "Requirement already satisfied: networkx in /usr/local/lib/python3.10/dist-packages (from torch>=1.10.0->accelerate) (3.3)\n",
            "Requirement already satisfied: jinja2 in /usr/local/lib/python3.10/dist-packages (from torch>=1.10.0->accelerate) (3.1.3)\n",
            "Requirement already satisfied: fsspec in /usr/local/lib/python3.10/dist-packages (from torch>=1.10.0->accelerate) (2023.6.0)\n",
            "Collecting nvidia-cuda-nvrtc-cu12==12.1.105 (from torch>=1.10.0->accelerate)\n",
            "  Using cached nvidia_cuda_nvrtc_cu12-12.1.105-py3-none-manylinux1_x86_64.whl (23.7 MB)\n",
            "Collecting nvidia-cuda-runtime-cu12==12.1.105 (from torch>=1.10.0->accelerate)\n",
            "  Using cached nvidia_cuda_runtime_cu12-12.1.105-py3-none-manylinux1_x86_64.whl (823 kB)\n",
            "Collecting nvidia-cuda-cupti-cu12==12.1.105 (from torch>=1.10.0->accelerate)\n",
            "  Using cached nvidia_cuda_cupti_cu12-12.1.105-py3-none-manylinux1_x86_64.whl (14.1 MB)\n",
            "Collecting nvidia-cudnn-cu12==8.9.2.26 (from torch>=1.10.0->accelerate)\n",
            "  Using cached nvidia_cudnn_cu12-8.9.2.26-py3-none-manylinux1_x86_64.whl (731.7 MB)\n",
            "Collecting nvidia-cublas-cu12==12.1.3.1 (from torch>=1.10.0->accelerate)\n",
            "  Using cached nvidia_cublas_cu12-12.1.3.1-py3-none-manylinux1_x86_64.whl (410.6 MB)\n",
            "Collecting nvidia-cufft-cu12==11.0.2.54 (from torch>=1.10.0->accelerate)\n",
            "  Using cached nvidia_cufft_cu12-11.0.2.54-py3-none-manylinux1_x86_64.whl (121.6 MB)\n",
            "Collecting nvidia-curand-cu12==10.3.2.106 (from torch>=1.10.0->accelerate)\n",
            "  Using cached nvidia_curand_cu12-10.3.2.106-py3-none-manylinux1_x86_64.whl (56.5 MB)\n",
            "Collecting nvidia-cusolver-cu12==11.4.5.107 (from torch>=1.10.0->accelerate)\n",
            "  Using cached nvidia_cusolver_cu12-11.4.5.107-py3-none-manylinux1_x86_64.whl (124.2 MB)\n",
            "Collecting nvidia-cusparse-cu12==12.1.0.106 (from torch>=1.10.0->accelerate)\n",
            "  Using cached nvidia_cusparse_cu12-12.1.0.106-py3-none-manylinux1_x86_64.whl (196.0 MB)\n",
            "Collecting nvidia-nccl-cu12==2.19.3 (from torch>=1.10.0->accelerate)\n",
            "  Using cached nvidia_nccl_cu12-2.19.3-py3-none-manylinux1_x86_64.whl (166.0 MB)\n",
            "Collecting nvidia-nvtx-cu12==12.1.105 (from torch>=1.10.0->accelerate)\n",
            "  Using cached nvidia_nvtx_cu12-12.1.105-py3-none-manylinux1_x86_64.whl (99 kB)\n",
            "Requirement already satisfied: triton==2.2.0 in /usr/local/lib/python3.10/dist-packages (from torch>=1.10.0->accelerate) (2.2.0)\n",
            "Collecting nvidia-nvjitlink-cu12 (from nvidia-cusolver-cu12==11.4.5.107->torch>=1.10.0->accelerate)\n",
            "  Using cached nvidia_nvjitlink_cu12-12.4.127-py3-none-manylinux2014_x86_64.whl (21.1 MB)\n",
            "Requirement already satisfied: requests in /usr/local/lib/python3.10/dist-packages (from huggingface-hub->accelerate) (2.31.0)\n",
            "Requirement already satisfied: tqdm>=4.42.1 in /usr/local/lib/python3.10/dist-packages (from huggingface-hub->accelerate) (4.66.4)\n",
            "Requirement already satisfied: MarkupSafe>=2.0 in /usr/local/lib/python3.10/dist-packages (from jinja2->torch>=1.10.0->accelerate) (2.1.5)\n",
            "Requirement already satisfied: charset-normalizer<4,>=2 in /usr/local/lib/python3.10/dist-packages (from requests->huggingface-hub->accelerate) (3.3.2)\n",
            "Requirement already satisfied: idna<4,>=2.5 in /usr/local/lib/python3.10/dist-packages (from requests->huggingface-hub->accelerate) (3.7)\n",
            "Requirement already satisfied: urllib3<3,>=1.21.1 in /usr/local/lib/python3.10/dist-packages (from requests->huggingface-hub->accelerate) (2.0.7)\n",
            "Requirement already satisfied: certifi>=2017.4.17 in /usr/local/lib/python3.10/dist-packages (from requests->huggingface-hub->accelerate) (2024.2.2)\n",
            "Requirement already satisfied: mpmath>=0.19 in /usr/local/lib/python3.10/dist-packages (from sympy->torch>=1.10.0->accelerate) (1.3.0)\n",
            "Installing collected packages: nvidia-nvtx-cu12, nvidia-nvjitlink-cu12, nvidia-nccl-cu12, nvidia-curand-cu12, nvidia-cufft-cu12, nvidia-cuda-runtime-cu12, nvidia-cuda-nvrtc-cu12, nvidia-cuda-cupti-cu12, nvidia-cublas-cu12, nvidia-cusparse-cu12, nvidia-cudnn-cu12, nvidia-cusolver-cu12, accelerate\n",
            "Successfully installed accelerate-0.30.0 nvidia-cublas-cu12-12.1.3.1 nvidia-cuda-cupti-cu12-12.1.105 nvidia-cuda-nvrtc-cu12-12.1.105 nvidia-cuda-runtime-cu12-12.1.105 nvidia-cudnn-cu12-8.9.2.26 nvidia-cufft-cu12-11.0.2.54 nvidia-curand-cu12-10.3.2.106 nvidia-cusolver-cu12-11.4.5.107 nvidia-cusparse-cu12-12.1.0.106 nvidia-nccl-cu12-2.19.3 nvidia-nvjitlink-cu12-12.4.127 nvidia-nvtx-cu12-12.1.105\n"
          ]
        }
      ],
      "source": [
        "!pip install datasets\n",
        "!pip install git+https://github.com/huggingface/transformers.git\n",
        "!pip install accelerate\n",
        "\n",
        "import ipywidgets as widgets\n",
        "import pandas as pd\n",
        "import json\n",
        "import torch\n",
        "\n",
        "from datasets import load_dataset"
      ]
    },
    {
      "cell_type": "code",
      "execution_count": 5,
      "metadata": {
        "colab": {
          "base_uri": "https://localhost:8080/"
        },
        "id": "HPAa0Bn-YqBo",
        "outputId": "37962702-1c21-4231-ed73-2f751129e895"
      },
      "outputs": [
        {
          "output_type": "stream",
          "name": "stdout",
          "text": [
            "Archive:  /content/mergedJson.zip\n",
            "  inflating: mergedJson.json         \n",
            "12d88910c17f2e7592f6cb9005bf86cdb557e031  /content/mergedJson.json\n"
          ]
        }
      ],
      "source": [
        "# GOOGLE COLAB\n",
        "# Upload the mergedJson.json zip file, to preserve contents\n",
        "!unzip /content/mergedJson.zip\n",
        "!sha1sum /content/mergedJson.json\n",
        "# Should be 12d88910c17f2e7592f6cb9005bf86cdb557e031"
      ]
    },
    {
      "cell_type": "code",
      "execution_count": 6,
      "metadata": {
        "id": "9XlGos1fYrH7"
      },
      "outputs": [],
      "source": [
        "with open(\"/content/mergedJson.json\", \"rb\") as jsonl_file:\n",
        "    data_list = json.load(jsonl_file)"
      ]
    },
    {
      "cell_type": "code",
      "execution_count": null,
      "metadata": {
        "id": "k9hqjj1nvHfp"
      },
      "outputs": [],
      "source": [
        "# LOCAL\n",
        "with open(\"./content/mergedJson.json\", \"rb\") as jsonl_file:\n",
        "    data_list = json.load(jsonl_file)"
      ]
    },
    {
      "cell_type": "code",
      "execution_count": 7,
      "metadata": {
        "colab": {
          "base_uri": "https://localhost:8080/"
        },
        "id": "-T_NqnfYbUzo",
        "outputId": "e45cd76b-a20f-4bed-ed62-5fb7aa029f17"
      },
      "outputs": [
        {
          "output_type": "execute_result",
          "data": {
            "text/plain": [
              "1248"
            ]
          },
          "metadata": {},
          "execution_count": 7
        }
      ],
      "source": [
        "from datasets import Dataset\n",
        "from datasets.dataset_dict import DatasetDict\n",
        "\n",
        "del data_list[\"GENERATED_DATA\"][len(data_list[\"GENERATED_DESCRIPTION\"]):]\n",
        "\n",
        "len(data_list[\"GENERATED_DATA\"])\n"
      ]
    },
    {
      "cell_type": "code",
      "source": [
        "data_lengths = [len(x) for x in data_list[\"GENERATED_DATA\"]]\n",
        "descript_lengths = [len(x) for x in data_list[\"GENERATED_DESCRIPTION\"]]\n",
        "print(\"Data: \" + str(max(data_lengths)) + \", \" + \"Description: \" + str(max(descript_lengths)))"
      ],
      "metadata": {
        "colab": {
          "base_uri": "https://localhost:8080/"
        },
        "id": "k5PbwVY63pli",
        "outputId": "73a59dee-ceef-40a3-8f30-11ce4c9dff1f"
      },
      "execution_count": 8,
      "outputs": [
        {
          "output_type": "stream",
          "name": "stdout",
          "text": [
            "Data: 2769, Description: 98\n"
          ]
        }
      ]
    },
    {
      "cell_type": "code",
      "execution_count": 9,
      "metadata": {
        "colab": {
          "base_uri": "https://localhost:8080/",
          "height": 424
        },
        "id": "uIGB45z3vHfr",
        "outputId": "87d9ede8-f565-4b57-dc34-e4b0f2b4845a"
      },
      "outputs": [
        {
          "output_type": "execute_result",
          "data": {
            "text/plain": [
              "                                  GENERATED_DESCRIPTION  \\\n",
              "0     {'location': '<Vector (0.0000, 0.0000, 12.5000...   \n",
              "1     {'location': '<Vector (-4.0000, -4.0000, 0.500...   \n",
              "2     {'location': '<Vector (-8.0000, -2.0000, 0.500...   \n",
              "3     {'location': '<Vector (9.0000, 0.0000, 0.5000)...   \n",
              "4     {'location': '<Vector (6.0000, 6.0000, 0.5000)...   \n",
              "...                                                 ...   \n",
              "1243  {'location': '<Vector (-1.5000, 5.5000, 0.5000...   \n",
              "1244  {'location': '<Vector (2.5000, -6.5000, 0.5000...   \n",
              "1245  {'location': '<Vector (3.5000, 9.5000, 0.5000)...   \n",
              "1246  {'location': '<Vector (0.5000, -9.5000, 0.5000...   \n",
              "1247  {'location': '<Vector (-1.5000, 4.5000, 0.5000...   \n",
              "\n",
              "                                         GENERATED_DATA  \n",
              "0     b'<library_geometries>\\n    <geometry id=\"Obje...  \n",
              "1     b'<library_geometries>\\n    <geometry id=\"Obje...  \n",
              "2     b'<library_geometries>\\n    <geometry id=\"room...  \n",
              "3     b'<library_geometries>\\n    <geometry id=\"Obje...  \n",
              "4     b'<library_geometries>\\n    <geometry id=\"Obje...  \n",
              "...                                                 ...  \n",
              "1243  b'<library_geometries>\\n    <geometry id=\"Obje...  \n",
              "1244  b'<library_geometries>\\n    <geometry id=\"room...  \n",
              "1245  b'<library_geometries>\\n    <geometry id=\"Obje...  \n",
              "1246  b'<library_geometries>\\n    <geometry id=\"Obje...  \n",
              "1247  b'<library_geometries>\\n    <geometry id=\"Obje...  \n",
              "\n",
              "[1248 rows x 2 columns]"
            ],
            "text/html": [
              "\n",
              "  <div id=\"df-d37b5d05-df1e-4388-80c2-697cbf9f3da5\" class=\"colab-df-container\">\n",
              "    <div>\n",
              "<style scoped>\n",
              "    .dataframe tbody tr th:only-of-type {\n",
              "        vertical-align: middle;\n",
              "    }\n",
              "\n",
              "    .dataframe tbody tr th {\n",
              "        vertical-align: top;\n",
              "    }\n",
              "\n",
              "    .dataframe thead th {\n",
              "        text-align: right;\n",
              "    }\n",
              "</style>\n",
              "<table border=\"1\" class=\"dataframe\">\n",
              "  <thead>\n",
              "    <tr style=\"text-align: right;\">\n",
              "      <th></th>\n",
              "      <th>GENERATED_DESCRIPTION</th>\n",
              "      <th>GENERATED_DATA</th>\n",
              "    </tr>\n",
              "  </thead>\n",
              "  <tbody>\n",
              "    <tr>\n",
              "      <th>0</th>\n",
              "      <td>{'location': '&lt;Vector (0.0000, 0.0000, 12.5000...</td>\n",
              "      <td>b'&lt;library_geometries&gt;\\n    &lt;geometry id=\"Obje...</td>\n",
              "    </tr>\n",
              "    <tr>\n",
              "      <th>1</th>\n",
              "      <td>{'location': '&lt;Vector (-4.0000, -4.0000, 0.500...</td>\n",
              "      <td>b'&lt;library_geometries&gt;\\n    &lt;geometry id=\"Obje...</td>\n",
              "    </tr>\n",
              "    <tr>\n",
              "      <th>2</th>\n",
              "      <td>{'location': '&lt;Vector (-8.0000, -2.0000, 0.500...</td>\n",
              "      <td>b'&lt;library_geometries&gt;\\n    &lt;geometry id=\"room...</td>\n",
              "    </tr>\n",
              "    <tr>\n",
              "      <th>3</th>\n",
              "      <td>{'location': '&lt;Vector (9.0000, 0.0000, 0.5000)...</td>\n",
              "      <td>b'&lt;library_geometries&gt;\\n    &lt;geometry id=\"Obje...</td>\n",
              "    </tr>\n",
              "    <tr>\n",
              "      <th>4</th>\n",
              "      <td>{'location': '&lt;Vector (6.0000, 6.0000, 0.5000)...</td>\n",
              "      <td>b'&lt;library_geometries&gt;\\n    &lt;geometry id=\"Obje...</td>\n",
              "    </tr>\n",
              "    <tr>\n",
              "      <th>...</th>\n",
              "      <td>...</td>\n",
              "      <td>...</td>\n",
              "    </tr>\n",
              "    <tr>\n",
              "      <th>1243</th>\n",
              "      <td>{'location': '&lt;Vector (-1.5000, 5.5000, 0.5000...</td>\n",
              "      <td>b'&lt;library_geometries&gt;\\n    &lt;geometry id=\"Obje...</td>\n",
              "    </tr>\n",
              "    <tr>\n",
              "      <th>1244</th>\n",
              "      <td>{'location': '&lt;Vector (2.5000, -6.5000, 0.5000...</td>\n",
              "      <td>b'&lt;library_geometries&gt;\\n    &lt;geometry id=\"room...</td>\n",
              "    </tr>\n",
              "    <tr>\n",
              "      <th>1245</th>\n",
              "      <td>{'location': '&lt;Vector (3.5000, 9.5000, 0.5000)...</td>\n",
              "      <td>b'&lt;library_geometries&gt;\\n    &lt;geometry id=\"Obje...</td>\n",
              "    </tr>\n",
              "    <tr>\n",
              "      <th>1246</th>\n",
              "      <td>{'location': '&lt;Vector (0.5000, -9.5000, 0.5000...</td>\n",
              "      <td>b'&lt;library_geometries&gt;\\n    &lt;geometry id=\"Obje...</td>\n",
              "    </tr>\n",
              "    <tr>\n",
              "      <th>1247</th>\n",
              "      <td>{'location': '&lt;Vector (-1.5000, 4.5000, 0.5000...</td>\n",
              "      <td>b'&lt;library_geometries&gt;\\n    &lt;geometry id=\"Obje...</td>\n",
              "    </tr>\n",
              "  </tbody>\n",
              "</table>\n",
              "<p>1248 rows × 2 columns</p>\n",
              "</div>\n",
              "    <div class=\"colab-df-buttons\">\n",
              "\n",
              "  <div class=\"colab-df-container\">\n",
              "    <button class=\"colab-df-convert\" onclick=\"convertToInteractive('df-d37b5d05-df1e-4388-80c2-697cbf9f3da5')\"\n",
              "            title=\"Convert this dataframe to an interactive table.\"\n",
              "            style=\"display:none;\">\n",
              "\n",
              "  <svg xmlns=\"http://www.w3.org/2000/svg\" height=\"24px\" viewBox=\"0 -960 960 960\">\n",
              "    <path d=\"M120-120v-720h720v720H120Zm60-500h600v-160H180v160Zm220 220h160v-160H400v160Zm0 220h160v-160H400v160ZM180-400h160v-160H180v160Zm440 0h160v-160H620v160ZM180-180h160v-160H180v160Zm440 0h160v-160H620v160Z\"/>\n",
              "  </svg>\n",
              "    </button>\n",
              "\n",
              "  <style>\n",
              "    .colab-df-container {\n",
              "      display:flex;\n",
              "      gap: 12px;\n",
              "    }\n",
              "\n",
              "    .colab-df-convert {\n",
              "      background-color: #E8F0FE;\n",
              "      border: none;\n",
              "      border-radius: 50%;\n",
              "      cursor: pointer;\n",
              "      display: none;\n",
              "      fill: #1967D2;\n",
              "      height: 32px;\n",
              "      padding: 0 0 0 0;\n",
              "      width: 32px;\n",
              "    }\n",
              "\n",
              "    .colab-df-convert:hover {\n",
              "      background-color: #E2EBFA;\n",
              "      box-shadow: 0px 1px 2px rgba(60, 64, 67, 0.3), 0px 1px 3px 1px rgba(60, 64, 67, 0.15);\n",
              "      fill: #174EA6;\n",
              "    }\n",
              "\n",
              "    .colab-df-buttons div {\n",
              "      margin-bottom: 4px;\n",
              "    }\n",
              "\n",
              "    [theme=dark] .colab-df-convert {\n",
              "      background-color: #3B4455;\n",
              "      fill: #D2E3FC;\n",
              "    }\n",
              "\n",
              "    [theme=dark] .colab-df-convert:hover {\n",
              "      background-color: #434B5C;\n",
              "      box-shadow: 0px 1px 3px 1px rgba(0, 0, 0, 0.15);\n",
              "      filter: drop-shadow(0px 1px 2px rgba(0, 0, 0, 0.3));\n",
              "      fill: #FFFFFF;\n",
              "    }\n",
              "  </style>\n",
              "\n",
              "    <script>\n",
              "      const buttonEl =\n",
              "        document.querySelector('#df-d37b5d05-df1e-4388-80c2-697cbf9f3da5 button.colab-df-convert');\n",
              "      buttonEl.style.display =\n",
              "        google.colab.kernel.accessAllowed ? 'block' : 'none';\n",
              "\n",
              "      async function convertToInteractive(key) {\n",
              "        const element = document.querySelector('#df-d37b5d05-df1e-4388-80c2-697cbf9f3da5');\n",
              "        const dataTable =\n",
              "          await google.colab.kernel.invokeFunction('convertToInteractive',\n",
              "                                                    [key], {});\n",
              "        if (!dataTable) return;\n",
              "\n",
              "        const docLinkHtml = 'Like what you see? Visit the ' +\n",
              "          '<a target=\"_blank\" href=https://colab.research.google.com/notebooks/data_table.ipynb>data table notebook</a>'\n",
              "          + ' to learn more about interactive tables.';\n",
              "        element.innerHTML = '';\n",
              "        dataTable['output_type'] = 'display_data';\n",
              "        await google.colab.output.renderOutput(dataTable, element);\n",
              "        const docLink = document.createElement('div');\n",
              "        docLink.innerHTML = docLinkHtml;\n",
              "        element.appendChild(docLink);\n",
              "      }\n",
              "    </script>\n",
              "  </div>\n",
              "\n",
              "\n",
              "<div id=\"df-cdb93162-67cb-40a9-959a-0adf71502611\">\n",
              "  <button class=\"colab-df-quickchart\" onclick=\"quickchart('df-cdb93162-67cb-40a9-959a-0adf71502611')\"\n",
              "            title=\"Suggest charts\"\n",
              "            style=\"display:none;\">\n",
              "\n",
              "<svg xmlns=\"http://www.w3.org/2000/svg\" height=\"24px\"viewBox=\"0 0 24 24\"\n",
              "     width=\"24px\">\n",
              "    <g>\n",
              "        <path d=\"M19 3H5c-1.1 0-2 .9-2 2v14c0 1.1.9 2 2 2h14c1.1 0 2-.9 2-2V5c0-1.1-.9-2-2-2zM9 17H7v-7h2v7zm4 0h-2V7h2v10zm4 0h-2v-4h2v4z\"/>\n",
              "    </g>\n",
              "</svg>\n",
              "  </button>\n",
              "\n",
              "<style>\n",
              "  .colab-df-quickchart {\n",
              "      --bg-color: #E8F0FE;\n",
              "      --fill-color: #1967D2;\n",
              "      --hover-bg-color: #E2EBFA;\n",
              "      --hover-fill-color: #174EA6;\n",
              "      --disabled-fill-color: #AAA;\n",
              "      --disabled-bg-color: #DDD;\n",
              "  }\n",
              "\n",
              "  [theme=dark] .colab-df-quickchart {\n",
              "      --bg-color: #3B4455;\n",
              "      --fill-color: #D2E3FC;\n",
              "      --hover-bg-color: #434B5C;\n",
              "      --hover-fill-color: #FFFFFF;\n",
              "      --disabled-bg-color: #3B4455;\n",
              "      --disabled-fill-color: #666;\n",
              "  }\n",
              "\n",
              "  .colab-df-quickchart {\n",
              "    background-color: var(--bg-color);\n",
              "    border: none;\n",
              "    border-radius: 50%;\n",
              "    cursor: pointer;\n",
              "    display: none;\n",
              "    fill: var(--fill-color);\n",
              "    height: 32px;\n",
              "    padding: 0;\n",
              "    width: 32px;\n",
              "  }\n",
              "\n",
              "  .colab-df-quickchart:hover {\n",
              "    background-color: var(--hover-bg-color);\n",
              "    box-shadow: 0 1px 2px rgba(60, 64, 67, 0.3), 0 1px 3px 1px rgba(60, 64, 67, 0.15);\n",
              "    fill: var(--button-hover-fill-color);\n",
              "  }\n",
              "\n",
              "  .colab-df-quickchart-complete:disabled,\n",
              "  .colab-df-quickchart-complete:disabled:hover {\n",
              "    background-color: var(--disabled-bg-color);\n",
              "    fill: var(--disabled-fill-color);\n",
              "    box-shadow: none;\n",
              "  }\n",
              "\n",
              "  .colab-df-spinner {\n",
              "    border: 2px solid var(--fill-color);\n",
              "    border-color: transparent;\n",
              "    border-bottom-color: var(--fill-color);\n",
              "    animation:\n",
              "      spin 1s steps(1) infinite;\n",
              "  }\n",
              "\n",
              "  @keyframes spin {\n",
              "    0% {\n",
              "      border-color: transparent;\n",
              "      border-bottom-color: var(--fill-color);\n",
              "      border-left-color: var(--fill-color);\n",
              "    }\n",
              "    20% {\n",
              "      border-color: transparent;\n",
              "      border-left-color: var(--fill-color);\n",
              "      border-top-color: var(--fill-color);\n",
              "    }\n",
              "    30% {\n",
              "      border-color: transparent;\n",
              "      border-left-color: var(--fill-color);\n",
              "      border-top-color: var(--fill-color);\n",
              "      border-right-color: var(--fill-color);\n",
              "    }\n",
              "    40% {\n",
              "      border-color: transparent;\n",
              "      border-right-color: var(--fill-color);\n",
              "      border-top-color: var(--fill-color);\n",
              "    }\n",
              "    60% {\n",
              "      border-color: transparent;\n",
              "      border-right-color: var(--fill-color);\n",
              "    }\n",
              "    80% {\n",
              "      border-color: transparent;\n",
              "      border-right-color: var(--fill-color);\n",
              "      border-bottom-color: var(--fill-color);\n",
              "    }\n",
              "    90% {\n",
              "      border-color: transparent;\n",
              "      border-bottom-color: var(--fill-color);\n",
              "    }\n",
              "  }\n",
              "</style>\n",
              "\n",
              "  <script>\n",
              "    async function quickchart(key) {\n",
              "      const quickchartButtonEl =\n",
              "        document.querySelector('#' + key + ' button');\n",
              "      quickchartButtonEl.disabled = true;  // To prevent multiple clicks.\n",
              "      quickchartButtonEl.classList.add('colab-df-spinner');\n",
              "      try {\n",
              "        const charts = await google.colab.kernel.invokeFunction(\n",
              "            'suggestCharts', [key], {});\n",
              "      } catch (error) {\n",
              "        console.error('Error during call to suggestCharts:', error);\n",
              "      }\n",
              "      quickchartButtonEl.classList.remove('colab-df-spinner');\n",
              "      quickchartButtonEl.classList.add('colab-df-quickchart-complete');\n",
              "    }\n",
              "    (() => {\n",
              "      let quickchartButtonEl =\n",
              "        document.querySelector('#df-cdb93162-67cb-40a9-959a-0adf71502611 button');\n",
              "      quickchartButtonEl.style.display =\n",
              "        google.colab.kernel.accessAllowed ? 'block' : 'none';\n",
              "    })();\n",
              "  </script>\n",
              "</div>\n",
              "\n",
              "  <div id=\"id_6b34934b-cfd3-4855-90bf-a70cc2fe2029\">\n",
              "    <style>\n",
              "      .colab-df-generate {\n",
              "        background-color: #E8F0FE;\n",
              "        border: none;\n",
              "        border-radius: 50%;\n",
              "        cursor: pointer;\n",
              "        display: none;\n",
              "        fill: #1967D2;\n",
              "        height: 32px;\n",
              "        padding: 0 0 0 0;\n",
              "        width: 32px;\n",
              "      }\n",
              "\n",
              "      .colab-df-generate:hover {\n",
              "        background-color: #E2EBFA;\n",
              "        box-shadow: 0px 1px 2px rgba(60, 64, 67, 0.3), 0px 1px 3px 1px rgba(60, 64, 67, 0.15);\n",
              "        fill: #174EA6;\n",
              "      }\n",
              "\n",
              "      [theme=dark] .colab-df-generate {\n",
              "        background-color: #3B4455;\n",
              "        fill: #D2E3FC;\n",
              "      }\n",
              "\n",
              "      [theme=dark] .colab-df-generate:hover {\n",
              "        background-color: #434B5C;\n",
              "        box-shadow: 0px 1px 3px 1px rgba(0, 0, 0, 0.15);\n",
              "        filter: drop-shadow(0px 1px 2px rgba(0, 0, 0, 0.3));\n",
              "        fill: #FFFFFF;\n",
              "      }\n",
              "    </style>\n",
              "    <button class=\"colab-df-generate\" onclick=\"generateWithVariable('dataframe')\"\n",
              "            title=\"Generate code using this dataframe.\"\n",
              "            style=\"display:none;\">\n",
              "\n",
              "  <svg xmlns=\"http://www.w3.org/2000/svg\" height=\"24px\"viewBox=\"0 0 24 24\"\n",
              "       width=\"24px\">\n",
              "    <path d=\"M7,19H8.4L18.45,9,17,7.55,7,17.6ZM5,21V16.75L18.45,3.32a2,2,0,0,1,2.83,0l1.4,1.43a1.91,1.91,0,0,1,.58,1.4,1.91,1.91,0,0,1-.58,1.4L9.25,21ZM18.45,9,17,7.55Zm-12,3A5.31,5.31,0,0,0,4.9,8.1,5.31,5.31,0,0,0,1,6.5,5.31,5.31,0,0,0,4.9,4.9,5.31,5.31,0,0,0,6.5,1,5.31,5.31,0,0,0,8.1,4.9,5.31,5.31,0,0,0,12,6.5,5.46,5.46,0,0,0,6.5,12Z\"/>\n",
              "  </svg>\n",
              "    </button>\n",
              "    <script>\n",
              "      (() => {\n",
              "      const buttonEl =\n",
              "        document.querySelector('#id_6b34934b-cfd3-4855-90bf-a70cc2fe2029 button.colab-df-generate');\n",
              "      buttonEl.style.display =\n",
              "        google.colab.kernel.accessAllowed ? 'block' : 'none';\n",
              "\n",
              "      buttonEl.onclick = () => {\n",
              "        google.colab.notebook.generateWithVariable('dataframe');\n",
              "      }\n",
              "      })();\n",
              "    </script>\n",
              "  </div>\n",
              "\n",
              "    </div>\n",
              "  </div>\n"
            ],
            "application/vnd.google.colaboratory.intrinsic+json": {
              "type": "dataframe",
              "variable_name": "dataframe",
              "summary": "{\n  \"name\": \"dataframe\",\n  \"rows\": 1248,\n  \"fields\": [\n    {\n      \"column\": \"GENERATED_DESCRIPTION\",\n      \"properties\": {\n        \"dtype\": \"string\",\n        \"num_unique_values\": 931,\n        \"samples\": [\n          \"{'location': '<Vector (0.0000, 0.0000, 8.0000)>', 'size': '<Vector (12.0000, 29.0000, 16.0000)>'}\",\n          \"{'location': '<Vector (-2.5000, -4.5000, 0.5000)>', 'size': '<Vector (1.0000, 1.0000, 1.0000)>'}\",\n          \"{'location': '<Vector (-3.0000, 0.0000, 0.5000)>', 'size': '<Vector (1.0000, 1.0000, 1.0000)>'}\"\n        ],\n        \"semantic_type\": \"\",\n        \"description\": \"\"\n      }\n    },\n    {\n      \"column\": \"GENERATED_DATA\",\n      \"properties\": {\n        \"dtype\": \"category\",\n        \"num_unique_values\": 119,\n        \"samples\": [\n          \"b'<library_geometries>\\\\n    <geometry id=\\\"room_cuboid-mesh\\\" name=\\\"room_cuboid\\\">\\\\n      <mesh>\\\\n        <source id=\\\"room_cuboid-mesh-positions\\\">\\\\n          <float_array id=\\\"room_cuboid-mesh-positions-array\\\" count=\\\"24\\\">-5 -15 -10 -5 -15 10 -5 15 -10 -5 15 10 5 -15 -10 5 -15 10 5 15 -10 5 15 10</float_array>\\\\n          <technique_common>\\\\n            <accessor source=\\\"#room_cuboid-mesh-positions-array\\\" count=\\\"8\\\" stride=\\\"3\\\">\\\\n              <param name=\\\"X\\\" type=\\\"float\\\" />\\\\n              <param name=\\\"Y\\\" type=\\\"float\\\" />\\\\n              <param name=\\\"Z\\\" type=\\\"float\\\" />\\\\n            </accessor>\\\\n          </technique_common>\\\\n        </source>\\\\n        <source id=\\\"room_cuboid-mesh-normals\\\">\\\\n          <float_array id=\\\"room_cuboid-mesh-normals-array\\\" count=\\\"18\\\">-1 0 0 0 1 0 1 0 0 0 -1 0 0 0 -1 0 0 1</float_array>\\\\n          <technique_common>\\\\n            <accessor source=\\\"#room_cuboid-mesh-normals-array\\\" count=\\\"6\\\" stride=\\\"3\\\">\\\\n              <param name=\\\"X\\\" type=\\\"float\\\" />\\\\n              <param name=\\\"Y\\\" type=\\\"float\\\" />\\\\n              <param name=\\\"Z\\\" type=\\\"float\\\" />\\\\n            </accessor>\\\\n          </technique_common>\\\\n        </source>\\\\n        <source id=\\\"room_cuboid-mesh-map-0\\\">\\\\n          <float_array id=\\\"room_cuboid-mesh-map-0-array\\\" count=\\\"72\\\">0.625 0 0.375 0.25 0.375 0 0.625 0.25 0.375 0.5 0.375 0.25 0.625 0.5 0.375 0.75 0.375 0.5 0.625 0.75 0.375 1 0.375 0.75 0.375 0.5 0.125 0.75 0.125 0.5 0.875 0.5 0.625 0.75 0.625 0.5 0.625 0 0.625 0.25 0.375 0.25 0.625 0.25 0.625 0.5 0.375 0.5 0.625 0.5 0.625 0.75 0.375 0.75 0.625 0.75 0.625 1 0.375 1 0.375 0.5 0.375 0.75 0.125 0.75 0.875 0.5 0.875 0.75 0.625 0.75</float_array>\\\\n          <technique_common>\\\\n            <accessor source=\\\"#room_cuboid-mesh-map-0-array\\\" count=\\\"36\\\" stride=\\\"2\\\">\\\\n              <param name=\\\"S\\\" type=\\\"float\\\" />\\\\n              <param name=\\\"T\\\" type=\\\"float\\\" />\\\\n            </accessor>\\\\n          </technique_common>\\\\n        </source>\\\\n        <vertices id=\\\"room_cuboid-mesh-vertices\\\">\\\\n          <input semantic=\\\"POSITION\\\" source=\\\"#room_cuboid-mesh-positions\\\" />\\\\n        </vertices>\\\\n        <triangles count=\\\"12\\\">\\\\n          <input semantic=\\\"VERTEX\\\" source=\\\"#room_cuboid-mesh-vertices\\\" offset=\\\"0\\\" />\\\\n          <input semantic=\\\"NORMAL\\\" source=\\\"#room_cuboid-mesh-normals\\\" offset=\\\"1\\\" />\\\\n          <input semantic=\\\"TEXCOORD\\\" source=\\\"#room_cuboid-mesh-map-0\\\" offset=\\\"2\\\" set=\\\"0\\\" />\\\\n          <p>1 0 0 2 0 1 0 0 2 3 1 3 6 1 4 2 1 5 7 2 6 4 2 7 6 2 8 5 3 9 0 3 10 4 3 11 6 4 12 0 4 13 2 4 14 3 5 15 5 5 16 7 5 17 1 0 18 3 0 19 2 0 20 3 1 21 7 1 22 6 1 23 7 2 24 5 2 25 4 2 26 5 3 27 1 3 28 0 3 29 6 4 30 4 4 31 0 4 32 3 5 33 1 5 34 5 5 35</p>\\\\n        </triangles>\\\\n      </mesh>\\\\n    </geometry>\\\\n  </library_geometries>\\\\n  '\",\n          \"b'<library_geometries>\\\\n    <geometry id=\\\"room_cuboid-mesh\\\" name=\\\"room_cuboid\\\">\\\\n      <mesh>\\\\n        <source id=\\\"room_cuboid-mesh-positions\\\">\\\\n          <float_array id=\\\"room_cuboid-mesh-positions-array\\\" count=\\\"24\\\">-6 -14 -7.5 -6 -14 7.5 -6 14 -7.5 -6 14 7.5 6 -14 -7.5 6 -14 7.5 6 14 -7.5 6 14 7.5</float_array>\\\\n          <technique_common>\\\\n            <accessor source=\\\"#room_cuboid-mesh-positions-array\\\" count=\\\"8\\\" stride=\\\"3\\\">\\\\n              <param name=\\\"X\\\" type=\\\"float\\\" />\\\\n              <param name=\\\"Y\\\" type=\\\"float\\\" />\\\\n              <param name=\\\"Z\\\" type=\\\"float\\\" />\\\\n            </accessor>\\\\n          </technique_common>\\\\n        </source>\\\\n        <source id=\\\"room_cuboid-mesh-normals\\\">\\\\n          <float_array id=\\\"room_cuboid-mesh-normals-array\\\" count=\\\"18\\\">-1 0 0 0 1 0 1 0 0 0 -1 0 0 0 -1 0 0 1</float_array>\\\\n          <technique_common>\\\\n            <accessor source=\\\"#room_cuboid-mesh-normals-array\\\" count=\\\"6\\\" stride=\\\"3\\\">\\\\n              <param name=\\\"X\\\" type=\\\"float\\\" />\\\\n              <param name=\\\"Y\\\" type=\\\"float\\\" />\\\\n              <param name=\\\"Z\\\" type=\\\"float\\\" />\\\\n            </accessor>\\\\n          </technique_common>\\\\n        </source>\\\\n        <source id=\\\"room_cuboid-mesh-map-0\\\">\\\\n          <float_array id=\\\"room_cuboid-mesh-map-0-array\\\" count=\\\"72\\\">0.625 0 0.375 0.25 0.375 0 0.625 0.25 0.375 0.5 0.375 0.25 0.625 0.5 0.375 0.75 0.375 0.5 0.625 0.75 0.375 1 0.375 0.75 0.375 0.5 0.125 0.75 0.125 0.5 0.875 0.5 0.625 0.75 0.625 0.5 0.625 0 0.625 0.25 0.375 0.25 0.625 0.25 0.625 0.5 0.375 0.5 0.625 0.5 0.625 0.75 0.375 0.75 0.625 0.75 0.625 1 0.375 1 0.375 0.5 0.375 0.75 0.125 0.75 0.875 0.5 0.875 0.75 0.625 0.75</float_array>\\\\n          <technique_common>\\\\n            <accessor source=\\\"#room_cuboid-mesh-map-0-array\\\" count=\\\"36\\\" stride=\\\"2\\\">\\\\n              <param name=\\\"S\\\" type=\\\"float\\\" />\\\\n              <param name=\\\"T\\\" type=\\\"float\\\" />\\\\n            </accessor>\\\\n          </technique_common>\\\\n        </source>\\\\n        <vertices id=\\\"room_cuboid-mesh-vertices\\\">\\\\n          <input semantic=\\\"POSITION\\\" source=\\\"#room_cuboid-mesh-positions\\\" />\\\\n        </vertices>\\\\n        <triangles count=\\\"12\\\">\\\\n          <input semantic=\\\"VERTEX\\\" source=\\\"#room_cuboid-mesh-vertices\\\" offset=\\\"0\\\" />\\\\n          <input semantic=\\\"NORMAL\\\" source=\\\"#room_cuboid-mesh-normals\\\" offset=\\\"1\\\" />\\\\n          <input semantic=\\\"TEXCOORD\\\" source=\\\"#room_cuboid-mesh-map-0\\\" offset=\\\"2\\\" set=\\\"0\\\" />\\\\n          <p>1 0 0 2 0 1 0 0 2 3 1 3 6 1 4 2 1 5 7 2 6 4 2 7 6 2 8 5 3 9 0 3 10 4 3 11 6 4 12 0 4 13 2 4 14 3 5 15 5 5 16 7 5 17 1 0 18 3 0 19 2 0 20 3 1 21 7 1 22 6 1 23 7 2 24 5 2 25 4 2 26 5 3 27 1 3 28 0 3 29 6 4 30 4 4 31 0 4 32 3 5 33 1 5 34 5 5 35</p>\\\\n        </triangles>\\\\n      </mesh>\\\\n    </geometry>\\\\n  </library_geometries>\\\\n  '\",\n          \"b'<library_geometries>\\\\n    <geometry id=\\\"Object_9-mesh\\\" name=\\\"Object_9\\\">\\\\n      <mesh>\\\\n        <source id=\\\"Object_9-mesh-positions\\\">\\\\n          <float_array id=\\\"Object_9-mesh-positions-array\\\" count=\\\"24\\\">-0.5 -0.5 -0.5 -0.5 -0.5 0.5 -0.5 0.5 -0.5 -0.5 0.5 0.5 0.5 -0.5 -0.5 0.5 -0.5 0.5 0.5 0.5 -0.5 0.5 0.5 0.5</float_array>\\\\n          <technique_common>\\\\n            <accessor source=\\\"#Object_9-mesh-positions-array\\\" count=\\\"8\\\" stride=\\\"3\\\">\\\\n              <param name=\\\"X\\\" type=\\\"float\\\" />\\\\n              <param name=\\\"Y\\\" type=\\\"float\\\" />\\\\n              <param name=\\\"Z\\\" type=\\\"float\\\" />\\\\n            </accessor>\\\\n          </technique_common>\\\\n        </source>\\\\n        <source id=\\\"Object_9-mesh-normals\\\">\\\\n          <float_array id=\\\"Object_9-mesh-normals-array\\\" count=\\\"18\\\">-1 0 0 0 1 0 1 0 0 0 -1 0 0 0 -1 0 0 1</float_array>\\\\n          <technique_common>\\\\n            <accessor source=\\\"#Object_9-mesh-normals-array\\\" count=\\\"6\\\" stride=\\\"3\\\">\\\\n              <param name=\\\"X\\\" type=\\\"float\\\" />\\\\n              <param name=\\\"Y\\\" type=\\\"float\\\" />\\\\n              <param name=\\\"Z\\\" type=\\\"float\\\" />\\\\n            </accessor>\\\\n          </technique_common>\\\\n        </source>\\\\n        <source id=\\\"Object_9-mesh-map-0\\\">\\\\n          <float_array id=\\\"Object_9-mesh-map-0-array\\\" count=\\\"72\\\">0.625 0 0.375 0.25 0.375 0 0.625 0.25 0.375 0.5 0.375 0.25 0.625 0.5 0.375 0.75 0.375 0.5 0.625 0.75 0.375 1 0.375 0.75 0.375 0.5 0.125 0.75 0.125 0.5 0.875 0.5 0.625 0.75 0.625 0.5 0.625 0 0.625 0.25 0.375 0.25 0.625 0.25 0.625 0.5 0.375 0.5 0.625 0.5 0.625 0.75 0.375 0.75 0.625 0.75 0.625 1 0.375 1 0.375 0.5 0.375 0.75 0.125 0.75 0.875 0.5 0.875 0.75 0.625 0.75</float_array>\\\\n          <technique_common>\\\\n            <accessor source=\\\"#Object_9-mesh-map-0-array\\\" count=\\\"36\\\" stride=\\\"2\\\">\\\\n              <param name=\\\"S\\\" type=\\\"float\\\" />\\\\n              <param name=\\\"T\\\" type=\\\"float\\\" />\\\\n            </accessor>\\\\n          </technique_common>\\\\n        </source>\\\\n        <vertices id=\\\"Object_9-mesh-vertices\\\">\\\\n          <input semantic=\\\"POSITION\\\" source=\\\"#Object_9-mesh-positions\\\" />\\\\n        </vertices>\\\\n        <triangles count=\\\"12\\\">\\\\n          <input semantic=\\\"VERTEX\\\" source=\\\"#Object_9-mesh-vertices\\\" offset=\\\"0\\\" />\\\\n          <input semantic=\\\"NORMAL\\\" source=\\\"#Object_9-mesh-normals\\\" offset=\\\"1\\\" />\\\\n          <input semantic=\\\"TEXCOORD\\\" source=\\\"#Object_9-mesh-map-0\\\" offset=\\\"2\\\" set=\\\"0\\\" />\\\\n          <p>1 0 0 2 0 1 0 0 2 3 1 3 6 1 4 2 1 5 7 2 6 4 2 7 6 2 8 5 3 9 0 3 10 4 3 11 6 4 12 0 4 13 2 4 14 3 5 15 5 5 16 7 5 17 1 0 18 3 0 19 2 0 20 3 1 21 7 1 22 6 1 23 7 2 24 5 2 25 4 2 26 5 3 27 1 3 28 0 3 29 6 4 30 4 4 31 0 4 32 3 5 33 1 5 34 5 5 35</p>\\\\n        </triangles>\\\\n      </mesh>\\\\n    </geometry>\\\\n  </library_geometries>\\\\n  '\"\n        ],\n        \"semantic_type\": \"\",\n        \"description\": \"\"\n      }\n    }\n  ]\n}"
            }
          },
          "metadata": {},
          "execution_count": 9
        }
      ],
      "source": [
        "dataframe = pd.DataFrame(data_list, columns=[\"GENERATED_DESCRIPTION\", \"GENERATED_DATA\"])\n",
        "dataframe"
      ]
    },
    {
      "cell_type": "code",
      "execution_count": null,
      "metadata": {
        "id": "7XsHp_6JYtYK"
      },
      "outputs": [],
      "source": [
        "\n",
        "dataframe_train = Dataset.from_pandas(dataframe[:600])\n",
        "dataframe_validate = Dataset.from_pandas(dataframe[600:800])\n",
        "dataframe_test = Dataset.from_pandas(dataframe[800:])\n",
        "\n",
        "dataset3 = DatasetDict({\"train\": dataframe_train, \"validate\": dataframe_validate, \"test\": dataframe_test})\n",
        "print(dataset3)"
      ]
    },
    {
      "cell_type": "code",
      "execution_count": null,
      "metadata": {
        "id": "6ikLNgJZYugL"
      },
      "outputs": [],
      "source": [
        "from transformers import RobertaTokenizer\n",
        "\n",
        "tokenizer = RobertaTokenizer.from_pretrained(\"Salesforce/codet5-small\")\n",
        "\n",
        "max_source_length = 512\n",
        "max_target_length = 4096\n",
        "\n",
        "# task_prefix = \"json2dae: \"\n"
      ]
    },
    {
      "cell_type": "code",
      "execution_count": null,
      "metadata": {
        "id": "sjpUUQpjYwsF"
      },
      "outputs": [],
      "source": [
        "def preprocess_data(inputData):\n",
        "    input_sequences = inputData[\"GENERATED_DESCRIPTION\"]\n",
        "    input_sequences = [str(seq) for seq in input_sequences]\n",
        "\n",
        "    output_sequences = inputData[\"GENERATED_DATA\"]\n",
        "    output_sequences = [str(seq) for seq in output_sequences]\n",
        "\n",
        "    model_inputs = tokenizer(\n",
        "        input_sequences,\n",
        "        max_length = max_source_length,\n",
        "        padding = \"max_length\",\n",
        "        truncation = True\n",
        "    )\n",
        "\n",
        "    labels = tokenizer(\n",
        "        output_sequences,\n",
        "        max_length = max_target_length,\n",
        "        padding = \"max_length\",\n",
        "        truncation = True\n",
        "    )\n",
        "\n",
        "    # Replace padding tokens with -100 so they are\n",
        "    # ignored by CrossEntropyLoss thing\n",
        "    #labels_with_ignore_index = []\n",
        "    #for sample in labels:\n",
        "    #    sample = [label if label != 0 else -100 for label in sample]\n",
        "    #    labels_with_ignore_index.append(sample)\n",
        "\n",
        "    labels_with_ignore_index = []\n",
        "    for label_sample in labels[\"input_ids\"]:\n",
        "        label_sample = [label if label != 0 else -100 for label in label_sample]\n",
        "        labels_with_ignore_index.append(label_sample)\n",
        "\n",
        "    model_inputs[\"labels\"] = labels_with_ignore_index\n",
        "    return model_inputs\n",
        "\n",
        "\n",
        "\n",
        "mapped_dataset = dataset3.map(preprocess_data, batched=True, batch_size=2)\n",
        "mapped_dataset"
      ]
    },
    {
      "cell_type": "code",
      "execution_count": null,
      "metadata": {
        "id": "bg1aTScvY4jG",
        "scrolled": true
      },
      "outputs": [],
      "source": [
        "mapped_dataset[\"test\"][\"labels\"][0]"
      ]
    },
    {
      "cell_type": "code",
      "execution_count": null,
      "metadata": {
        "id": "jY4lHiJzY538"
      },
      "outputs": [],
      "source": [
        "import pickle\n",
        "\n",
        "with open('6May24_v1_m512_M512_S1188_mapped_dataset.pkl', 'wb') as f:\n",
        "    pickle.dump(mapped_dataset, f)\n",
        "\n",
        "!zip 6May24_v1_m512_M512_S1188_mapped_dataset.pkl.zip 6May24_v1_m512_M512_S1188_mapped_dataset.pkl"
      ]
    },
    {
      "cell_type": "code",
      "execution_count": null,
      "metadata": {
        "id": "DTSIAgtyY7bs"
      },
      "outputs": [],
      "source": [
        "from torch.utils.data import DataLoader\n",
        "mapped_dataset.set_format(\"torch\", columns=[\"input_ids\", \"attention_mask\", \"labels\"])\n",
        "train_dataloader = DataLoader(mapped_dataset[\"train\"], shuffle=True, batch_size=2)\n",
        "valid_dataloader = DataLoader(mapped_dataset[\"validate\"], batch_size=2)\n",
        "test_dataloader = DataLoader(mapped_dataset[\"test\"], batch_size=2)"
      ]
    },
    {
      "cell_type": "code",
      "execution_count": null,
      "metadata": {
        "id": "TXINda3LY_9j"
      },
      "outputs": [],
      "source": [
        "from transformers import RobertaTokenizer, T5ForConditionalGeneration\n",
        "\n",
        "tokenizer = RobertaTokenizer.from_pretrained('Salesforce/codet5-small')\n",
        "model = T5ForConditionalGeneration.from_pretrained('Salesforce/codet5-small')\n",
        "\n",
        "device = torch.device(\"cuda\" if torch.cuda.is_available() else \"cpu\")\n",
        "model.to(device)\n",
        "\n",
        "\n"
      ]
    },
    {
      "cell_type": "code",
      "execution_count": null,
      "metadata": {
        "id": "1toKBZBjZAuK"
      },
      "outputs": [],
      "source": [
        "# Total parameters and trainable parameters.\n",
        "total_params = sum(p.numel() for p in model.parameters())\n",
        "print(f\"{total_params:,} total parameters.\")\n",
        "total_trainable_params = sum(\n",
        "    p.numel() for p in model.parameters() if p.requires_grad)\n",
        "print(f\"{total_trainable_params:,} training parameters.\")"
      ]
    },
    {
      "cell_type": "code",
      "execution_count": null,
      "metadata": {
        "id": "WqTMcteDZCXP"
      },
      "outputs": [],
      "source": [
        "import torch\n",
        "\n",
        "from transformers import T5Tokenizer, T5ForConditionalGeneration, TrainingArguments, Trainer, DefaultDataCollator"
      ]
    },
    {
      "cell_type": "code",
      "execution_count": null,
      "metadata": {
        "id": "M0kSowxUZDzD"
      },
      "outputs": [],
      "source": [
        "data_collator = DefaultDataCollator(return_tensors=\"tf\")\n",
        "\n",
        "mapped_train = mapped_dataset[\"train\"]\n",
        "mapped_validate = mapped_dataset[\"validate\"]"
      ]
    },
    {
      "cell_type": "code",
      "execution_count": null,
      "metadata": {
        "id": "c6QFJWV8ZEp7"
      },
      "outputs": [],
      "source": [
        "dataset_training = mapped_train.to_tf_dataset(\n",
        "    columns=[\"input_ids\", \"attention_mask\", \"labels\"],\n",
        "    shuffle=True,\n",
        "    batch_size=2,\n",
        "    collate_fn=data_collator,\n",
        ")\n",
        "dataset_validation = mapped_validate.to_tf_dataset(\n",
        "    columns=[\"input_ids\", \"attention_mask\", \"labels\"],\n",
        "    shuffle=False,\n",
        "    batch_size=2,\n",
        "    collate_fn=data_collator,\n",
        ")"
      ]
    },
    {
      "cell_type": "code",
      "execution_count": null,
      "metadata": {
        "id": "MIetXwncZFm8"
      },
      "outputs": [],
      "source": [
        "training_args = TrainingArguments(\n",
        "    output_dir = \"/\",\n",
        "    num_train_epochs = 3,\n",
        "    per_device_train_batch_size = 2,\n",
        "    per_device_eval_batch_size = 2,\n",
        "    save_steps = 400,\n",
        "    save_total_limit = 2,\n",
        "    eval_steps = 100,\n",
        "    eval_strategy = \"steps\",\n",
        "    fp16 = True\n",
        ")\n",
        "\n",
        "trainer = Trainer(\n",
        "    model = model,\n",
        "    args = training_args,\n",
        "    train_dataset = mapped_dataset[\"train\"],\n",
        "    eval_dataset = mapped_dataset[\"validate\"]\n",
        ")"
      ]
    },
    {
      "cell_type": "code",
      "execution_count": null,
      "metadata": {
        "id": "RxfjsaD3ZGuk"
      },
      "outputs": [],
      "source": [
        "trainer.train()"
      ]
    },
    {
      "cell_type": "code",
      "execution_count": null,
      "metadata": {
        "id": "KuXYP6WtZHtZ"
      },
      "outputs": [],
      "source": [
        "trainer.save_model(\"6May24_v1\")\n",
        "!zip -r 6May24_model_v1.zip 6May24_v1"
      ]
    },
    {
      "cell_type": "code",
      "source": [
        "from transformers import T5ForConditionalGeneration, T5Tokenizer\n",
        "model_path = \"6May24_v1\"\n",
        "model = T5ForConditionalGeneration.from_pretrained(model_path)\n",
        "tokenizer = RobertaTokenizer.from_pretrained('Salesforce/codet5-small')"
      ],
      "metadata": {
        "id": "-2EgURbW4TQd"
      },
      "execution_count": null,
      "outputs": []
    },
    {
      "cell_type": "code",
      "execution_count": null,
      "metadata": {
        "id": "OrXPpRYabyUI"
      },
      "outputs": [],
      "source": [
        "# @title Testing\n",
        "\n",
        "def translator(model, tokenizer):\n",
        "  inputs = \"\"\"\n",
        "        {'location': '<Vector (0.0000, 0.0000, 9.0000)>', 'size': '<Vector (10.0000, 13.0000, 18.0000)>'}\n",
        "\n",
        "  \"\"\"\n",
        "  input_tokens = tokenizer.encode(\n",
        "      inputs,\n",
        "      return_tensors = \"pt\",\n",
        "      max_length = 512,\n",
        "      truncation = True\n",
        "  )\n",
        "\n",
        "  corrected_ids = model.generate(\n",
        "      input_tokens,\n",
        "      max_length=4096,\n",
        "      early_stopping=False\n",
        "  )\n",
        "\n",
        "  corrected_text = tokenizer.decode(corrected_ids[0], skip_special_tokens = True)\n",
        "  return corrected_text\n",
        "\n",
        "tokenstuff = translator(model, tokenizer)\n",
        "print(tokenstuff)"
      ]
    },
    {
      "cell_type": "code",
      "source": [
        "tokenstuff"
      ],
      "metadata": {
        "id": "WH1oAHBZ2pQO"
      },
      "execution_count": null,
      "outputs": []
    },
    {
      "cell_type": "code",
      "source": [
        "tokenstuff"
      ],
      "metadata": {
        "id": "ZW6wVNTT4DYW"
      },
      "execution_count": null,
      "outputs": []
    },
    {
      "cell_type": "code",
      "source": [],
      "metadata": {
        "id": "NJwe8N_j5roD"
      },
      "execution_count": null,
      "outputs": []
    }
  ],
  "metadata": {
    "colab": {
      "provenance": [],
      "gpuType": "T4",
      "include_colab_link": true
    },
    "kernelspec": {
      "display_name": "Python 3",
      "name": "python3"
    },
    "language_info": {
      "codemirror_mode": {
        "name": "ipython",
        "version": 3
      },
      "file_extension": ".py",
      "mimetype": "text/x-python",
      "name": "python",
      "nbconvert_exporter": "python",
      "pygments_lexer": "ipython3",
      "version": "3.12.2"
    },
    "accelerator": "GPU"
  },
  "nbformat": 4,
  "nbformat_minor": 0
}