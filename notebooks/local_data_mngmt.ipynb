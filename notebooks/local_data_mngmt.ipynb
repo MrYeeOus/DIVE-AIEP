{
 "cells": [
  {
   "cell_type": "code",
   "execution_count": 1,
   "id": "f9542a93-441c-4243-b144-c0f6e6ac080f",
   "metadata": {
    "colab": {
     "base_uri": "https://localhost:8080/"
    },
    "id": "f9542a93-441c-4243-b144-c0f6e6ac080f",
    "outputId": "5dc4760f-0e7b-42f0-fc23-95df9b1c574d",
    "scrolled": true
   },
   "outputs": [
    {
     "name": "stdout",
     "output_type": "stream",
     "text": [
      "Requirement already satisfied: datasets in /home/ben/miniforge3/envs/jupyter_labs/lib/python3.12/site-packages (2.18.0)\n",
      "Requirement already satisfied: ipywidgets in /home/ben/miniforge3/envs/jupyter_labs/lib/python3.12/site-packages (8.1.2)\n",
      "Requirement already satisfied: filelock in /home/ben/miniforge3/envs/jupyter_labs/lib/python3.12/site-packages (from datasets) (3.13.1)\n",
      "Requirement already satisfied: numpy>=1.17 in /home/ben/miniforge3/envs/jupyter_labs/lib/python3.12/site-packages (from datasets) (1.26.4)\n",
      "Requirement already satisfied: pyarrow>=12.0.0 in /home/ben/miniforge3/envs/jupyter_labs/lib/python3.12/site-packages (from datasets) (15.0.2)\n",
      "Requirement already satisfied: pyarrow-hotfix in /home/ben/miniforge3/envs/jupyter_labs/lib/python3.12/site-packages (from datasets) (0.6)\n",
      "Requirement already satisfied: dill<0.3.9,>=0.3.0 in /home/ben/miniforge3/envs/jupyter_labs/lib/python3.12/site-packages (from datasets) (0.3.8)\n",
      "Requirement already satisfied: pandas in /home/ben/miniforge3/envs/jupyter_labs/lib/python3.12/site-packages (from datasets) (2.2.1)\n",
      "Requirement already satisfied: requests>=2.19.0 in /home/ben/miniforge3/envs/jupyter_labs/lib/python3.12/site-packages (from datasets) (2.31.0)\n",
      "Requirement already satisfied: tqdm>=4.62.1 in /home/ben/miniforge3/envs/jupyter_labs/lib/python3.12/site-packages (from datasets) (4.66.2)\n",
      "Requirement already satisfied: xxhash in /home/ben/miniforge3/envs/jupyter_labs/lib/python3.12/site-packages (from datasets) (3.4.1)\n",
      "Requirement already satisfied: multiprocess in /home/ben/miniforge3/envs/jupyter_labs/lib/python3.12/site-packages (from datasets) (0.70.16)\n",
      "Requirement already satisfied: fsspec<=2024.2.0,>=2023.1.0 in /home/ben/miniforge3/envs/jupyter_labs/lib/python3.12/site-packages (from fsspec[http]<=2024.2.0,>=2023.1.0->datasets) (2024.2.0)\n",
      "Requirement already satisfied: aiohttp in /home/ben/miniforge3/envs/jupyter_labs/lib/python3.12/site-packages (from datasets) (3.9.3)\n",
      "Requirement already satisfied: huggingface-hub>=0.19.4 in /home/ben/miniforge3/envs/jupyter_labs/lib/python3.12/site-packages (from datasets) (0.21.4)\n",
      "Requirement already satisfied: packaging in /home/ben/miniforge3/envs/jupyter_labs/lib/python3.12/site-packages (from datasets) (23.2)\n",
      "Requirement already satisfied: pyyaml>=5.1 in /home/ben/miniforge3/envs/jupyter_labs/lib/python3.12/site-packages (from datasets) (6.0.1)\n",
      "Requirement already satisfied: comm>=0.1.3 in /home/ben/miniforge3/envs/jupyter_labs/lib/python3.12/site-packages (from ipywidgets) (0.2.1)\n",
      "Requirement already satisfied: ipython>=6.1.0 in /home/ben/miniforge3/envs/jupyter_labs/lib/python3.12/site-packages (from ipywidgets) (8.22.1)\n",
      "Requirement already satisfied: traitlets>=4.3.1 in /home/ben/miniforge3/envs/jupyter_labs/lib/python3.12/site-packages (from ipywidgets) (5.14.1)\n",
      "Requirement already satisfied: widgetsnbextension~=4.0.10 in /home/ben/miniforge3/envs/jupyter_labs/lib/python3.12/site-packages (from ipywidgets) (4.0.10)\n",
      "Requirement already satisfied: jupyterlab-widgets~=3.0.10 in /home/ben/miniforge3/envs/jupyter_labs/lib/python3.12/site-packages (from ipywidgets) (3.0.10)\n",
      "Requirement already satisfied: aiosignal>=1.1.2 in /home/ben/miniforge3/envs/jupyter_labs/lib/python3.12/site-packages (from aiohttp->datasets) (1.3.1)\n",
      "Requirement already satisfied: attrs>=17.3.0 in /home/ben/miniforge3/envs/jupyter_labs/lib/python3.12/site-packages (from aiohttp->datasets) (23.2.0)\n",
      "Requirement already satisfied: frozenlist>=1.1.1 in /home/ben/miniforge3/envs/jupyter_labs/lib/python3.12/site-packages (from aiohttp->datasets) (1.4.1)\n",
      "Requirement already satisfied: multidict<7.0,>=4.5 in /home/ben/miniforge3/envs/jupyter_labs/lib/python3.12/site-packages (from aiohttp->datasets) (6.0.5)\n",
      "Requirement already satisfied: yarl<2.0,>=1.0 in /home/ben/miniforge3/envs/jupyter_labs/lib/python3.12/site-packages (from aiohttp->datasets) (1.9.4)\n",
      "Requirement already satisfied: typing-extensions>=3.7.4.3 in /home/ben/miniforge3/envs/jupyter_labs/lib/python3.12/site-packages (from huggingface-hub>=0.19.4->datasets) (4.10.0)\n",
      "Requirement already satisfied: decorator in /home/ben/miniforge3/envs/jupyter_labs/lib/python3.12/site-packages (from ipython>=6.1.0->ipywidgets) (5.1.1)\n",
      "Requirement already satisfied: jedi>=0.16 in /home/ben/miniforge3/envs/jupyter_labs/lib/python3.12/site-packages (from ipython>=6.1.0->ipywidgets) (0.19.1)\n",
      "Requirement already satisfied: matplotlib-inline in /home/ben/miniforge3/envs/jupyter_labs/lib/python3.12/site-packages (from ipython>=6.1.0->ipywidgets) (0.1.6)\n",
      "Requirement already satisfied: prompt-toolkit<3.1.0,>=3.0.41 in /home/ben/miniforge3/envs/jupyter_labs/lib/python3.12/site-packages (from ipython>=6.1.0->ipywidgets) (3.0.42)\n",
      "Requirement already satisfied: pygments>=2.4.0 in /home/ben/miniforge3/envs/jupyter_labs/lib/python3.12/site-packages (from ipython>=6.1.0->ipywidgets) (2.17.2)\n",
      "Requirement already satisfied: stack-data in /home/ben/miniforge3/envs/jupyter_labs/lib/python3.12/site-packages (from ipython>=6.1.0->ipywidgets) (0.6.2)\n",
      "Requirement already satisfied: pexpect>4.3 in /home/ben/miniforge3/envs/jupyter_labs/lib/python3.12/site-packages (from ipython>=6.1.0->ipywidgets) (4.9.0)\n",
      "Requirement already satisfied: charset-normalizer<4,>=2 in /home/ben/miniforge3/envs/jupyter_labs/lib/python3.12/site-packages (from requests>=2.19.0->datasets) (3.3.2)\n",
      "Requirement already satisfied: idna<4,>=2.5 in /home/ben/miniforge3/envs/jupyter_labs/lib/python3.12/site-packages (from requests>=2.19.0->datasets) (3.6)\n",
      "Requirement already satisfied: urllib3<3,>=1.21.1 in /home/ben/miniforge3/envs/jupyter_labs/lib/python3.12/site-packages (from requests>=2.19.0->datasets) (2.2.1)\n",
      "Requirement already satisfied: certifi>=2017.4.17 in /home/ben/miniforge3/envs/jupyter_labs/lib/python3.12/site-packages (from requests>=2.19.0->datasets) (2024.2.2)\n",
      "Requirement already satisfied: python-dateutil>=2.8.2 in /home/ben/miniforge3/envs/jupyter_labs/lib/python3.12/site-packages (from pandas->datasets) (2.8.2)\n",
      "Requirement already satisfied: pytz>=2020.1 in /home/ben/miniforge3/envs/jupyter_labs/lib/python3.12/site-packages (from pandas->datasets) (2024.1)\n",
      "Requirement already satisfied: tzdata>=2022.7 in /home/ben/miniforge3/envs/jupyter_labs/lib/python3.12/site-packages (from pandas->datasets) (2024.1)\n",
      "Requirement already satisfied: parso<0.9.0,>=0.8.3 in /home/ben/miniforge3/envs/jupyter_labs/lib/python3.12/site-packages (from jedi>=0.16->ipython>=6.1.0->ipywidgets) (0.8.3)\n",
      "Requirement already satisfied: ptyprocess>=0.5 in /home/ben/miniforge3/envs/jupyter_labs/lib/python3.12/site-packages (from pexpect>4.3->ipython>=6.1.0->ipywidgets) (0.7.0)\n",
      "Requirement already satisfied: wcwidth in /home/ben/miniforge3/envs/jupyter_labs/lib/python3.12/site-packages (from prompt-toolkit<3.1.0,>=3.0.41->ipython>=6.1.0->ipywidgets) (0.2.13)\n",
      "Requirement already satisfied: six>=1.5 in /home/ben/miniforge3/envs/jupyter_labs/lib/python3.12/site-packages (from python-dateutil>=2.8.2->pandas->datasets) (1.16.0)\n",
      "Requirement already satisfied: executing>=1.2.0 in /home/ben/miniforge3/envs/jupyter_labs/lib/python3.12/site-packages (from stack-data->ipython>=6.1.0->ipywidgets) (2.0.1)\n",
      "Requirement already satisfied: asttokens>=2.1.0 in /home/ben/miniforge3/envs/jupyter_labs/lib/python3.12/site-packages (from stack-data->ipython>=6.1.0->ipywidgets) (2.4.1)\n",
      "Requirement already satisfied: pure-eval in /home/ben/miniforge3/envs/jupyter_labs/lib/python3.12/site-packages (from stack-data->ipython>=6.1.0->ipywidgets) (0.2.2)\n",
      "Collecting git+https://github.com/huggingface/transformers.git\n",
      "  Cloning https://github.com/huggingface/transformers.git to /tmp/pip-req-build-n3ztcvv_\n",
      "  Running command git clone --filter=blob:none --quiet https://github.com/huggingface/transformers.git /tmp/pip-req-build-n3ztcvv_\n",
      "  Resolved https://github.com/huggingface/transformers.git to commit 8c12690cecbb97e187861e386f7a0ac790e4236c\n",
      "  Installing build dependencies ... \u001b[?25ldone\n",
      "\u001b[?25h  Getting requirements to build wheel ... \u001b[?25ldone\n",
      "\u001b[?25h  Installing backend dependencies ... \u001b[?25ldone\n",
      "\u001b[?25h  Preparing metadata (pyproject.toml) ... \u001b[?25ldone\n",
      "\u001b[?25hRequirement already satisfied: filelock in /home/ben/miniforge3/envs/jupyter_labs/lib/python3.12/site-packages (from transformers==4.41.0.dev0) (3.13.1)\n",
      "Requirement already satisfied: huggingface-hub<1.0,>=0.19.3 in /home/ben/miniforge3/envs/jupyter_labs/lib/python3.12/site-packages (from transformers==4.41.0.dev0) (0.21.4)\n",
      "Requirement already satisfied: numpy>=1.17 in /home/ben/miniforge3/envs/jupyter_labs/lib/python3.12/site-packages (from transformers==4.41.0.dev0) (1.26.4)\n",
      "Requirement already satisfied: packaging>=20.0 in /home/ben/miniforge3/envs/jupyter_labs/lib/python3.12/site-packages (from transformers==4.41.0.dev0) (23.2)\n",
      "Requirement already satisfied: pyyaml>=5.1 in /home/ben/miniforge3/envs/jupyter_labs/lib/python3.12/site-packages (from transformers==4.41.0.dev0) (6.0.1)\n",
      "Requirement already satisfied: regex!=2019.12.17 in /home/ben/miniforge3/envs/jupyter_labs/lib/python3.12/site-packages (from transformers==4.41.0.dev0) (2023.12.25)\n",
      "Requirement already satisfied: requests in /home/ben/miniforge3/envs/jupyter_labs/lib/python3.12/site-packages (from transformers==4.41.0.dev0) (2.31.0)\n",
      "Collecting tokenizers<0.20,>=0.19 (from transformers==4.41.0.dev0)\n",
      "  Downloading tokenizers-0.19.1-cp312-cp312-manylinux_2_17_x86_64.manylinux2014_x86_64.whl.metadata (6.7 kB)\n",
      "Requirement already satisfied: safetensors>=0.4.1 in /home/ben/miniforge3/envs/jupyter_labs/lib/python3.12/site-packages (from transformers==4.41.0.dev0) (0.4.2)\n",
      "Requirement already satisfied: tqdm>=4.27 in /home/ben/miniforge3/envs/jupyter_labs/lib/python3.12/site-packages (from transformers==4.41.0.dev0) (4.66.2)\n",
      "Requirement already satisfied: fsspec>=2023.5.0 in /home/ben/miniforge3/envs/jupyter_labs/lib/python3.12/site-packages (from huggingface-hub<1.0,>=0.19.3->transformers==4.41.0.dev0) (2024.2.0)\n",
      "Requirement already satisfied: typing-extensions>=3.7.4.3 in /home/ben/miniforge3/envs/jupyter_labs/lib/python3.12/site-packages (from huggingface-hub<1.0,>=0.19.3->transformers==4.41.0.dev0) (4.10.0)\n",
      "Requirement already satisfied: charset-normalizer<4,>=2 in /home/ben/miniforge3/envs/jupyter_labs/lib/python3.12/site-packages (from requests->transformers==4.41.0.dev0) (3.3.2)\n",
      "Requirement already satisfied: idna<4,>=2.5 in /home/ben/miniforge3/envs/jupyter_labs/lib/python3.12/site-packages (from requests->transformers==4.41.0.dev0) (3.6)\n",
      "Requirement already satisfied: urllib3<3,>=1.21.1 in /home/ben/miniforge3/envs/jupyter_labs/lib/python3.12/site-packages (from requests->transformers==4.41.0.dev0) (2.2.1)\n",
      "Requirement already satisfied: certifi>=2017.4.17 in /home/ben/miniforge3/envs/jupyter_labs/lib/python3.12/site-packages (from requests->transformers==4.41.0.dev0) (2024.2.2)\n",
      "Downloading tokenizers-0.19.1-cp312-cp312-manylinux_2_17_x86_64.manylinux2014_x86_64.whl (3.6 MB)\n",
      "\u001b[2K   \u001b[38;2;114;156;31m━━━━━━━━━━━━━━━━━━━━━━━━━━━━━━━━━━━━━━━━\u001b[0m \u001b[32m3.6/3.6 MB\u001b[0m \u001b[31m2.2 MB/s\u001b[0m eta \u001b[36m0:00:00\u001b[0m[31m2.2 MB/s\u001b[0m eta \u001b[36m0:00:01\u001b[0m\n",
      "\u001b[?25hBuilding wheels for collected packages: transformers\n",
      "  Building wheel for transformers (pyproject.toml) ... \u001b[?25ldone\n",
      "\u001b[?25h  Created wheel for transformers: filename=transformers-4.41.0.dev0-py3-none-any.whl size=9012708 sha256=91b8fb9c26e0a83dab6e6d92544e0b813984f2ee405bd55248f3a40d2e2522f2\n",
      "  Stored in directory: /tmp/pip-ephem-wheel-cache-v3xd9g5m/wheels/54/cb/3f/83103de5575c534436d6a4686686dead458238dfaf1147e98d\n",
      "Successfully built transformers\n",
      "Installing collected packages: tokenizers, transformers\n",
      "  Attempting uninstall: tokenizers\n",
      "    Found existing installation: tokenizers 0.15.2\n",
      "    Uninstalling tokenizers-0.15.2:\n",
      "      Successfully uninstalled tokenizers-0.15.2\n",
      "  Attempting uninstall: transformers\n",
      "    Found existing installation: transformers 4.40.0.dev0\n",
      "    Uninstalling transformers-4.40.0.dev0:\n",
      "      Successfully uninstalled transformers-4.40.0.dev0\n",
      "Successfully installed tokenizers-0.19.1 transformers-4.41.0.dev0\n",
      "Requirement already satisfied: accelerate in /home/ben/miniforge3/envs/jupyter_labs/lib/python3.12/site-packages (0.28.0)\n",
      "Requirement already satisfied: numpy>=1.17 in /home/ben/miniforge3/envs/jupyter_labs/lib/python3.12/site-packages (from accelerate) (1.26.4)\n",
      "Requirement already satisfied: packaging>=20.0 in /home/ben/miniforge3/envs/jupyter_labs/lib/python3.12/site-packages (from accelerate) (23.2)\n",
      "Requirement already satisfied: psutil in /home/ben/miniforge3/envs/jupyter_labs/lib/python3.12/site-packages (from accelerate) (5.9.8)\n",
      "Requirement already satisfied: pyyaml in /home/ben/miniforge3/envs/jupyter_labs/lib/python3.12/site-packages (from accelerate) (6.0.1)\n",
      "Requirement already satisfied: torch>=1.10.0 in /home/ben/miniforge3/envs/jupyter_labs/lib/python3.12/site-packages (from accelerate) (2.2.2)\n",
      "Requirement already satisfied: huggingface-hub in /home/ben/miniforge3/envs/jupyter_labs/lib/python3.12/site-packages (from accelerate) (0.21.4)\n",
      "Requirement already satisfied: safetensors>=0.3.1 in /home/ben/miniforge3/envs/jupyter_labs/lib/python3.12/site-packages (from accelerate) (0.4.2)\n",
      "Requirement already satisfied: filelock in /home/ben/miniforge3/envs/jupyter_labs/lib/python3.12/site-packages (from torch>=1.10.0->accelerate) (3.13.1)\n",
      "Requirement already satisfied: typing-extensions>=4.8.0 in /home/ben/miniforge3/envs/jupyter_labs/lib/python3.12/site-packages (from torch>=1.10.0->accelerate) (4.10.0)\n",
      "Requirement already satisfied: sympy in /home/ben/miniforge3/envs/jupyter_labs/lib/python3.12/site-packages (from torch>=1.10.0->accelerate) (1.12)\n",
      "Requirement already satisfied: networkx in /home/ben/miniforge3/envs/jupyter_labs/lib/python3.12/site-packages (from torch>=1.10.0->accelerate) (3.2.1)\n",
      "Requirement already satisfied: jinja2 in /home/ben/miniforge3/envs/jupyter_labs/lib/python3.12/site-packages (from torch>=1.10.0->accelerate) (3.1.3)\n",
      "Requirement already satisfied: fsspec in /home/ben/miniforge3/envs/jupyter_labs/lib/python3.12/site-packages (from torch>=1.10.0->accelerate) (2024.2.0)\n",
      "Requirement already satisfied: nvidia-cuda-nvrtc-cu12==12.1.105 in /home/ben/miniforge3/envs/jupyter_labs/lib/python3.12/site-packages (from torch>=1.10.0->accelerate) (12.1.105)\n",
      "Requirement already satisfied: nvidia-cuda-runtime-cu12==12.1.105 in /home/ben/miniforge3/envs/jupyter_labs/lib/python3.12/site-packages (from torch>=1.10.0->accelerate) (12.1.105)\n",
      "Requirement already satisfied: nvidia-cuda-cupti-cu12==12.1.105 in /home/ben/miniforge3/envs/jupyter_labs/lib/python3.12/site-packages (from torch>=1.10.0->accelerate) (12.1.105)\n",
      "Requirement already satisfied: nvidia-cudnn-cu12==8.9.2.26 in /home/ben/miniforge3/envs/jupyter_labs/lib/python3.12/site-packages (from torch>=1.10.0->accelerate) (8.9.2.26)\n",
      "Requirement already satisfied: nvidia-cublas-cu12==12.1.3.1 in /home/ben/miniforge3/envs/jupyter_labs/lib/python3.12/site-packages (from torch>=1.10.0->accelerate) (12.1.3.1)\n",
      "Requirement already satisfied: nvidia-cufft-cu12==11.0.2.54 in /home/ben/miniforge3/envs/jupyter_labs/lib/python3.12/site-packages (from torch>=1.10.0->accelerate) (11.0.2.54)\n",
      "Requirement already satisfied: nvidia-curand-cu12==10.3.2.106 in /home/ben/miniforge3/envs/jupyter_labs/lib/python3.12/site-packages (from torch>=1.10.0->accelerate) (10.3.2.106)\n",
      "Requirement already satisfied: nvidia-cusolver-cu12==11.4.5.107 in /home/ben/miniforge3/envs/jupyter_labs/lib/python3.12/site-packages (from torch>=1.10.0->accelerate) (11.4.5.107)\n",
      "Requirement already satisfied: nvidia-cusparse-cu12==12.1.0.106 in /home/ben/miniforge3/envs/jupyter_labs/lib/python3.12/site-packages (from torch>=1.10.0->accelerate) (12.1.0.106)\n",
      "Requirement already satisfied: nvidia-nccl-cu12==2.19.3 in /home/ben/miniforge3/envs/jupyter_labs/lib/python3.12/site-packages (from torch>=1.10.0->accelerate) (2.19.3)\n",
      "Requirement already satisfied: nvidia-nvtx-cu12==12.1.105 in /home/ben/miniforge3/envs/jupyter_labs/lib/python3.12/site-packages (from torch>=1.10.0->accelerate) (12.1.105)\n",
      "Requirement already satisfied: nvidia-nvjitlink-cu12 in /home/ben/miniforge3/envs/jupyter_labs/lib/python3.12/site-packages (from nvidia-cusolver-cu12==11.4.5.107->torch>=1.10.0->accelerate) (12.4.99)\n",
      "Requirement already satisfied: requests in /home/ben/miniforge3/envs/jupyter_labs/lib/python3.12/site-packages (from huggingface-hub->accelerate) (2.31.0)\n",
      "Requirement already satisfied: tqdm>=4.42.1 in /home/ben/miniforge3/envs/jupyter_labs/lib/python3.12/site-packages (from huggingface-hub->accelerate) (4.66.2)\n",
      "Requirement already satisfied: MarkupSafe>=2.0 in /home/ben/miniforge3/envs/jupyter_labs/lib/python3.12/site-packages (from jinja2->torch>=1.10.0->accelerate) (2.1.5)\n",
      "Requirement already satisfied: charset-normalizer<4,>=2 in /home/ben/miniforge3/envs/jupyter_labs/lib/python3.12/site-packages (from requests->huggingface-hub->accelerate) (3.3.2)\n",
      "Requirement already satisfied: idna<4,>=2.5 in /home/ben/miniforge3/envs/jupyter_labs/lib/python3.12/site-packages (from requests->huggingface-hub->accelerate) (3.6)\n",
      "Requirement already satisfied: urllib3<3,>=1.21.1 in /home/ben/miniforge3/envs/jupyter_labs/lib/python3.12/site-packages (from requests->huggingface-hub->accelerate) (2.2.1)\n",
      "Requirement already satisfied: certifi>=2017.4.17 in /home/ben/miniforge3/envs/jupyter_labs/lib/python3.12/site-packages (from requests->huggingface-hub->accelerate) (2024.2.2)\n",
      "Requirement already satisfied: mpmath>=0.19 in /home/ben/miniforge3/envs/jupyter_labs/lib/python3.12/site-packages (from sympy->torch>=1.10.0->accelerate) (1.3.0)\n"
     ]
    }
   ],
   "source": [
    "!pip install datasets ipywidgets\n",
    "!pip install git+https://github.com/huggingface/transformers.git\n",
    "!pip install accelerate\n",
    "\n",
    "import ipywidgets as widgets\n",
    "import pandas as pd\n",
    "import json\n",
    "import torch\n",
    "\n",
    "from datasets import load_dataset"
   ]
  },
  {
   "cell_type": "code",
   "execution_count": null,
   "id": "F-hjkUbN_p5N",
   "metadata": {
    "colab": {
     "base_uri": "https://localhost:8080/"
    },
    "id": "F-hjkUbN_p5N",
    "outputId": "2c272241-ac46-4483-8fc8-aac70fa1ead2"
   },
   "outputs": [],
   "source": [
    "# Upload the mergedJson.jsonl zip file, to preserve contents\n",
    "!unzip /content/mergedJson.jsonl.zip\n",
    "!sha1sum /content/mergedJson.jsonl\n",
    "# Should be 7b0fa963ec592bd5e8939ede1a6ab478a6104eae"
   ]
  },
  {
   "cell_type": "code",
   "execution_count": null,
   "id": "e3797f83-23e4-429e-a137-f799dbd4de1d",
   "metadata": {
    "colab": {
     "base_uri": "https://localhost:8080/"
    },
    "id": "e3797f83-23e4-429e-a137-f799dbd4de1d",
    "outputId": "33292bb4-5f0a-4d89-fd30-512eb88652ab",
    "scrolled": true
   },
   "outputs": [],
   "source": [
    "with open(\"mergedJson.jsonl\", \"r\") as jsonl_file:\n",
    "    lines = jsonl_file.readlines()\n",
    "\n",
    "data_list = []\n",
    "for line in lines:\n",
    "    data = json.loads(line)\n",
    "    data_list.append(data)\n",
    "\n",
    "# dataframe = pd.DataFrame(data_list)\n",
    "dataframe = pd.DataFrame.from_dict(data_list, orient='columns')\n",
    "\n",
    "print(dataframe)"
   ]
  },
  {
   "cell_type": "code",
   "execution_count": null,
   "id": "b65acfb2-46f7-4d43-b3e1-73f2c2b9f9bc",
   "metadata": {
    "id": "b65acfb2-46f7-4d43-b3e1-73f2c2b9f9bc",
    "scrolled": true
   },
   "outputs": [],
   "source": [
    "dataframe\n",
    "\n",
    "# dataframe[0] = Description\n",
    "# dataframe[1] = Data"
   ]
  },
  {
   "cell_type": "code",
   "execution_count": null,
   "id": "f8bb22c6-123b-485c-a4bf-d675ff9f4bfd",
   "metadata": {
    "cellView": "form",
    "id": "f8bb22c6-123b-485c-a4bf-d675ff9f4bfd"
   },
   "outputs": [],
   "source": [
    "# @title Starcoder\n",
    "from transformers import AutoModelForCausalLM, AutoTokenizer, Trainer, TrainingArguments\n",
    "# checkpoint = \"bigcode/starcoder2-7b\" # Took an awfully long time to download (15mb/s)\n",
    "checkpoint = \"bigcode/starcoder2-3b\" # Crashing colab, OOM\n",
    "\n",
    "device = \"cuda\" # or cuda for gpu\n",
    "tokenizer = AutoTokenizer.from_pretrained(checkpoint)\n",
    "model = AutoModelForCausalLM.from_pretrained(checkpoint, device_map=\"auto\", torch_dtype=torch.bfloat16).to(\"cuda\")\n",
    "\n",
    "training_args = TrainingArguments(\n",
    "    output_dir=\"./_results\",\n",
    "    num_train_epochs=3,\n",
    "    per_device_train_batch_size=8,\n",
    "    save_steps=400,\n",
    "    save_total_limit=2,\n",
    "    evaluation_strategy=\"steps\",\n",
    "    eval_steps=100,\n",
    ")\n",
    "\n",
    "trainer = Trainer(\n",
    "    model=model,\n",
    "    args=training_args,\n",
    "    train_dataset=dataframe,\n",
    "    tokenizer=tokenizer,\n",
    ")\n",
    "\n",
    "trainer.train()"
   ]
  },
  {
   "cell_type": "code",
   "execution_count": null,
   "id": "wtxu9beDbobt",
   "metadata": {
    "cellView": "form",
    "id": "wtxu9beDbobt"
   },
   "outputs": [],
   "source": [
    "# @title Phi-2/stability-code\n",
    "import torch\n",
    "from transformers import AutoModelForCausalLM, AutoTokenizer, Trainer, TrainingArguments\n",
    "\n",
    "torch.set_default_device(\"cuda\")\n",
    "\n",
    "model = AutoModelForCausalLM.from_pretrained(\"stabilityai/stable-code-3b\", torch_dtype=\"auto\", trust_remote_code=True).to(\"cuda\")\n",
    "tokenizer = AutoTokenizer.from_pretrained(\"stabilityai/stable-code-3b\", trust_remote_code=True)\n",
    "\n",
    "training_args = TrainingArguments(\n",
    "    output_dir=\"./_results\",\n",
    "    num_train_epochs=3,\n",
    "    per_device_train_batch_size=1,\n",
    "    save_steps=400,\n",
    "    save_total_limit=2,\n",
    "    evaluation_strategy=\"steps\",\n",
    "    eval_steps=100,\n",
    ")\n",
    "\n",
    "trainer = Trainer(\n",
    "    model=model,\n",
    "    args=training_args,\n",
    "    train_dataset=dataframe,\n",
    "    tokenizer=tokenizer,\n",
    ")\n",
    "\n",
    "trainer.train()"
   ]
  },
  {
   "cell_type": "code",
   "execution_count": null,
   "id": "38FfP8PdH5OO",
   "metadata": {
    "id": "38FfP8PdH5OO"
   },
   "outputs": [],
   "source": [
    "model = None\n",
    "with torch.no_grad():\n",
    "    torch.cuda.empty_cache()"
   ]
  },
  {
   "cell_type": "code",
   "execution_count": null,
   "id": "Yq174dqQeO6c",
   "metadata": {
    "colab": {
     "base_uri": "https://localhost:8080/",
     "height": 465
    },
    "id": "Yq174dqQeO6c",
    "outputId": "2c824b34-0aff-4c87-da0b-75d408bca93e",
    "scrolled": true
   },
   "outputs": [],
   "source": [
    "from transformers import RobertaTokenizer, T5ForConditionalGeneration, Trainer, TrainingArguments\n",
    "\n",
    "tokenizer = RobertaTokenizer.from_pretrained('Salesforce/codet5-small')\n",
    "model = T5ForConditionalGeneration.from_pretrained('Salesforce/codet5-small')\n",
    "\n",
    "training_args = TrainingArguments(\n",
    "    output_dir=\"./_results\",\n",
    "    num_train_epochs=3,\n",
    "    per_device_train_batch_size=8,\n",
    "    save_steps=500,\n",
    "    save_total_limit=2,\n",
    "    evaluation_strategy=\"steps\",\n",
    "    eval_steps=100,\n",
    ")\n",
    "\n",
    "trainer = Trainer(\n",
    "    model=model,\n",
    "    args=training_args,\n",
    "    train_dataset=dataframe,\n",
    "    tokenizer=tokenizer,\n",
    ")\n",
    "\n",
    "trainer.train()"
   ]
  }
 ],
 "metadata": {
  "accelerator": "GPU",
  "colab": {
   "gpuType": "T4",
   "provenance": []
  },
  "kernelspec": {
   "display_name": "Python 3 (ipykernel)",
   "language": "python",
   "name": "python3"
  },
  "language_info": {
   "codemirror_mode": {
    "name": "ipython",
    "version": 3
   },
   "file_extension": ".py",
   "mimetype": "text/x-python",
   "name": "python",
   "nbconvert_exporter": "python",
   "pygments_lexer": "ipython3",
   "version": "3.12.2"
  }
 },
 "nbformat": 4,
 "nbformat_minor": 5
}
